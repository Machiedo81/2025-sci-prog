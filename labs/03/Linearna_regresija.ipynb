{
  "cells": [
    {
      "cell_type": "markdown",
      "metadata": {
        "id": "vqv_wAtk0ibM"
      },
      "source": [
        "# Linearna regresija\n"
      ]
    },
    {
      "cell_type": "markdown",
      "source": [
        "### Libraries"
      ],
      "metadata": {
        "id": "mhdMyGlMTjyc"
      }
    },
    {
      "cell_type": "markdown",
      "source": [
        "![Libraries.png](data:image/png;base64,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)"
      ],
      "metadata": {
        "id": "cg0vz2PoTd8V"
      }
    },
    {
      "cell_type": "code",
      "execution_count": null,
      "metadata": {
        "id": "Ea4C8rUR0ibU"
      },
      "outputs": [],
      "source": [
        "#Import Python Libraries\n",
        "import numpy as np\n",
        "import scipy as sp\n",
        "import pandas as pd\n",
        "import matplotlib.pyplot as plt\n",
        "import seaborn as sns\n",
        "\n",
        "# Enable inline plotting\n",
        "%matplotlib inline"
      ]
    },
    {
      "cell_type": "markdown",
      "source": [
        "###Data (Numpy&Pandas)"
      ],
      "metadata": {
        "id": "9rPntCJ18NuS"
      }
    },
    {
      "cell_type": "code",
      "source": [
        "my_list = [[1,0.5],[2,2.5],[3,2.0],[4,4.0],[5,3.5],[6,6.0],[7,5.5]]\n",
        "print(my_list)\n",
        "my_array = np.array(my_list)\n",
        "print(my_array)\n",
        "df = pd.DataFrame(my_array, columns = ['x','y'])\n",
        "print(df)"
      ],
      "metadata": {
        "id": "8V2C-JEaYIev",
        "colab": {
          "base_uri": "https://localhost:8080/"
        },
        "outputId": "da175a4e-8a96-462b-e971-380b737b481e"
      },
      "execution_count": null,
      "outputs": [
        {
          "output_type": "stream",
          "name": "stdout",
          "text": [
            "[[1, 0.5], [2, 2.5], [3, 2.0], [4, 4.0], [5, 3.5], [6, 6.0], [7, 5.5]]\n",
            "[[1.  0.5]\n",
            " [2.  2.5]\n",
            " [3.  2. ]\n",
            " [4.  4. ]\n",
            " [5.  3.5]\n",
            " [6.  6. ]\n",
            " [7.  5.5]]\n",
            "     x    y\n",
            "0  1.0  0.5\n",
            "1  2.0  2.5\n",
            "2  3.0  2.0\n",
            "3  4.0  4.0\n",
            "4  5.0  3.5\n",
            "5  6.0  6.0\n",
            "6  7.0  5.5\n"
          ]
        }
      ]
    },
    {
      "cell_type": "markdown",
      "source": [
        "###Pseudo Code Example"
      ],
      "metadata": {
        "id": "9FKGfxCu87xo"
      }
    },
    {
      "cell_type": "code",
      "source": [
        "sumx = 0\n",
        "sumy = 0\n",
        "sumxy = 0\n",
        "sumx2 = 0\n",
        "n = df.shape[0]\n",
        "\n",
        "for i, row in df.iterrows():\n",
        "    sumx = sumx + row['x']\n",
        "    sumy = sumy + row['y']\n",
        "    sumxy = sumxy + row['x']*row['y']\n",
        "    sumx2 = sumx2 + row['x']*row['x']\n",
        "\n",
        "xm = sumx/n\n",
        "ym = sumy/n\n",
        "a1 = (n*sumxy - sumx*sumy)/(n*sumx2 - sumx*sumx)\n",
        "a0 = ym - a1*xm\n",
        "\n",
        "print(a0.round(8), a1.round(7))"
      ],
      "metadata": {
        "colab": {
          "base_uri": "https://localhost:8080/"
        },
        "id": "ArXpP28JIyrK",
        "outputId": "1e4a17c2-7f33-4231-b23f-2169fba0bb31"
      },
      "execution_count": null,
      "outputs": [
        {
          "output_type": "stream",
          "name": "stdout",
          "text": [
            "0.07142857 0.8392857\n"
          ]
        }
      ]
    },
    {
      "cell_type": "code",
      "source": [
        "st = 0\n",
        "sr = 0\n",
        "for i, row in df.iterrows():\n",
        "    st = st + (row['y']-ym)**2\n",
        "    sr = sr + (row['y'] - a1*row['x'] - a0)**2\n",
        "\n",
        "import math\n",
        "syx = math.sqrt(sr/(n-2))\n",
        "r2 = (st-sr)/st\n",
        "print(r2.round(3))\n",
        "print(round(math.sqrt(r2),3))"
      ],
      "metadata": {
        "colab": {
          "base_uri": "https://localhost:8080/"
        },
        "id": "_aDNLnfPKLCV",
        "outputId": "53d9e3be-af28-4ece-eac3-ec3281f1dc2b"
      },
      "execution_count": null,
      "outputs": [
        {
          "output_type": "stream",
          "name": "stdout",
          "text": [
            "0.868\n",
            "0.932\n"
          ]
        }
      ]
    },
    {
      "cell_type": "markdown",
      "source": [
        "###Scikit Learn"
      ],
      "metadata": {
        "id": "5stjcdyN8UyB"
      }
    },
    {
      "cell_type": "code",
      "source": [
        "from sklearn import datasets, linear_model\n",
        "\n",
        "lm = linear_model.LinearRegression()\n",
        "lm.fit(my_array[:, 0].reshape(-1,1), my_array[:, 1])\n",
        "\n",
        "print(my_array[:, 0])\n",
        "print(my_array[:, 0].reshape(-1,1))\n",
        "\n",
        "print(\"\\n\", lm.coef_)"
      ],
      "metadata": {
        "colab": {
          "base_uri": "https://localhost:8080/"
        },
        "id": "yhIQK3_rPi-9",
        "outputId": "a88bbb73-b193-426e-8956-28b0344fe51a"
      },
      "execution_count": null,
      "outputs": [
        {
          "output_type": "stream",
          "name": "stdout",
          "text": [
            "[1. 2. 3. 4. 5. 6. 7.]\n",
            "[[1.]\n",
            " [2.]\n",
            " [3.]\n",
            " [4.]\n",
            " [5.]\n",
            " [6.]\n",
            " [7.]]\n",
            "\n",
            " [0.83928571]\n"
          ]
        }
      ]
    },
    {
      "cell_type": "markdown",
      "source": [
        "![Reshape.png](data:image/png;base64,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)"
      ],
      "metadata": {
        "id": "7-zjRRnLSG2d"
      }
    },
    {
      "cell_type": "code",
      "source": [
        "xData = np.array(df['x']).reshape(-1,1)\n",
        "yData = np.array(df['y'])\n",
        "print(xData)"
      ],
      "metadata": {
        "id": "ZbeJVZK2Ri2T",
        "colab": {
          "base_uri": "https://localhost:8080/"
        },
        "outputId": "c5803115-0ccf-45b8-a462-f0d87ae5b4b9"
      },
      "execution_count": null,
      "outputs": [
        {
          "output_type": "stream",
          "name": "stdout",
          "text": [
            "[[1.]\n",
            " [2.]\n",
            " [3.]\n",
            " [4.]\n",
            " [5.]\n",
            " [6.]\n",
            " [7.]]\n"
          ]
        }
      ]
    },
    {
      "cell_type": "code",
      "source": [
        "print(yData)"
      ],
      "metadata": {
        "colab": {
          "base_uri": "https://localhost:8080/"
        },
        "id": "gI6vukaNWRks",
        "outputId": "724d13a9-7528-4dc7-8878-9b383f1f5cc1"
      },
      "execution_count": null,
      "outputs": [
        {
          "output_type": "stream",
          "name": "stdout",
          "text": [
            "[0.5 2.5 2.  4.  3.5 6.  5.5]\n"
          ]
        }
      ]
    },
    {
      "cell_type": "code",
      "source": [
        "from sklearn import datasets, linear_model\n",
        "\n",
        "lm = linear_model.LinearRegression()\n",
        "lm.fit(xData,yData)\n",
        "\n",
        "print(lm.coef_[0])"
      ],
      "metadata": {
        "colab": {
          "base_uri": "https://localhost:8080/"
        },
        "id": "fIQWnsipWSoG",
        "outputId": "431b6f84-216f-48d5-aa7d-285a13d8d3dd"
      },
      "execution_count": null,
      "outputs": [
        {
          "output_type": "stream",
          "name": "stdout",
          "text": [
            "0.8392857142857143\n"
          ]
        }
      ]
    },
    {
      "cell_type": "code",
      "source": [
        "lm.intercept_"
      ],
      "metadata": {
        "colab": {
          "base_uri": "https://localhost:8080/"
        },
        "id": "vKWyWCJJDAxO",
        "outputId": "d369371c-12eb-4998-f7b0-89d1058cbfd1"
      },
      "execution_count": null,
      "outputs": [
        {
          "output_type": "execute_result",
          "data": {
            "text/plain": [
              "0.07142857142857117"
            ]
          },
          "metadata": {},
          "execution_count": 9
        }
      ]
    },
    {
      "cell_type": "code",
      "source": [
        "lm.score(xData, yData)"
      ],
      "metadata": {
        "colab": {
          "base_uri": "https://localhost:8080/"
        },
        "id": "cbTdyAJzN6OO",
        "outputId": "12e8c568-54e8-4e40-fb6c-c786804e9916"
      },
      "execution_count": null,
      "outputs": [
        {
          "output_type": "execute_result",
          "data": {
            "text/plain": [
              "0.8683176100628931"
            ]
          },
          "metadata": {},
          "execution_count": 10
        }
      ]
    },
    {
      "cell_type": "code",
      "source": [
        "plt.scatter(xData, yData,  color='black')\n",
        "plt.plot(xData, lm.predict(xData), color='blue',\n",
        "         linewidth=3)\n",
        "plt.show()"
      ],
      "metadata": {
        "colab": {
          "base_uri": "https://localhost:8080/",
          "height": 265
        },
        "id": "cytUJASmXXvG",
        "outputId": "636c4094-3fd0-4b83-c36d-4918e8d48721"
      },
      "execution_count": null,
      "outputs": [
        {
          "output_type": "display_data",
          "data": {
            "text/plain": [
              "<Figure size 432x288 with 1 Axes>"
            ],
            "image/png": "[encoded data removed]"
          },
          "metadata": {
            "needs_background": "light"
          }
        }
      ]
    },
    {
      "cell_type": "code",
      "source": [
        "print(lm.predict([[0], [20]]))"
      ],
      "metadata": {
        "colab": {
          "base_uri": "https://localhost:8080/"
        },
        "id": "Ha8XTJ0PZ5df",
        "outputId": "151d9540-b9d3-4f62-ea49-244cc555b3b8"
      },
      "execution_count": null,
      "outputs": [
        {
          "output_type": "stream",
          "name": "stdout",
          "text": [
            "[ 0.07142857 16.85714286]\n"
          ]
        }
      ]
    },
    {
      "cell_type": "code",
      "source": [
        "from sklearn import linear_model\n",
        "lr = linear_model.LinearRegression()\n",
        "lr.fit(df[['x']], df[['y']])\n",
        "\n",
        "print(\"Coef:\", lr.coef_, \"\\nIntercept:\", lr.intercept_)"
      ],
      "metadata": {
        "colab": {
          "base_uri": "https://localhost:8080/"
        },
        "id": "inGJUdGrARbG",
        "outputId": "27172ec5-2bfb-420c-cf1e-1f29013ec720"
      },
      "execution_count": null,
      "outputs": [
        {
          "output_type": "stream",
          "name": "stdout",
          "text": [
            "Coef: [[0.83928571]] \n",
            "Intercept: [0.07142857]\n"
          ]
        }
      ]
    },
    {
      "cell_type": "code",
      "source": [
        "lm.score(df[['x']], df[['y']])"
      ],
      "metadata": {
        "colab": {
          "base_uri": "https://localhost:8080/"
        },
        "id": "eXPIqxUrCGEG",
        "outputId": "8dadb791-4ccc-4256-ea01-161452f3c4fd"
      },
      "execution_count": null,
      "outputs": [
        {
          "output_type": "stream",
          "name": "stderr",
          "text": [
            "/usr/local/lib/python3.7/dist-packages/sklearn/base.py:444: UserWarning: X has feature names, but LinearRegression was fitted without feature names\n",
            "  f\"X has feature names, but {self.__class__.__name__} was fitted without\"\n"
          ]
        },
        {
          "output_type": "execute_result",
          "data": {
            "text/plain": [
              "0.8683176100628931"
            ]
          },
          "metadata": {},
          "execution_count": 14
        }
      ]
    },
    {
      "cell_type": "markdown",
      "source": [
        "###Seaborn"
      ],
      "metadata": {
        "id": "q02ES91J8xIf"
      }
    },
    {
      "cell_type": "code",
      "source": [
        "sns.regplot(x='x', y='y', data=df)"
      ],
      "metadata": {
        "colab": {
          "base_uri": "https://localhost:8080/",
          "height": 296
        },
        "id": "1zciQLjJAtS5",
        "outputId": "6477f9ed-20e2-4864-8c2c-488d8aca1dec"
      },
      "execution_count": null,
      "outputs": [
        {
          "output_type": "execute_result",
          "data": {
            "text/plain": [
              "<matplotlib.axes._subplots.AxesSubplot at 0x7f6c058f8750>"
            ]
          },
          "metadata": {},
          "execution_count": 15
        },
        {
          "output_type": "display_data",
          "data": {
            "text/plain": [
              "<Figure size 432x288 with 1 Axes>"
            ],
            "image/png": "[encoded data removed]"
          },
          "metadata": {
            "needs_background": "light"
          }
        }
      ]
    },
    {
      "cell_type": "markdown",
      "source": [
        "###NumPy"
      ],
      "metadata": {
        "id": "U07KCww89l9_"
      }
    },
    {
      "cell_type": "code",
      "source": [
        "x = np.array(df['x'])\n",
        "y = np.array(df['y'])"
      ],
      "metadata": {
        "id": "uGw9E0feaEHY"
      },
      "execution_count": null,
      "outputs": []
    },
    {
      "cell_type": "code",
      "source": [
        "[a,b]=np.polyfit(x,y,1)\n",
        "a.round(7)"
      ],
      "metadata": {
        "id": "ldX78N4BAvbh",
        "colab": {
          "base_uri": "https://localhost:8080/"
        },
        "outputId": "fdf00184-ba75-4f9a-e629-ab2b6d44764b"
      },
      "execution_count": null,
      "outputs": [
        {
          "output_type": "execute_result",
          "data": {
            "text/plain": [
              "0.8392857"
            ]
          },
          "metadata": {},
          "execution_count": 17
        }
      ]
    },
    {
      "cell_type": "code",
      "source": [
        "b.round(8)"
      ],
      "metadata": {
        "colab": {
          "base_uri": "https://localhost:8080/"
        },
        "id": "glBu4Nb8Anz8",
        "outputId": "39e002a8-c5c3-490a-9556-92b70e09cd7b"
      },
      "execution_count": null,
      "outputs": [
        {
          "output_type": "execute_result",
          "data": {
            "text/plain": [
              "0.07142857"
            ]
          },
          "metadata": {},
          "execution_count": 18
        }
      ]
    },
    {
      "cell_type": "markdown",
      "source": [
        "###Matplotlib"
      ],
      "metadata": {
        "id": "5OihcR2-9R2e"
      }
    },
    {
      "cell_type": "code",
      "source": [
        "plt.scatter (x,y)\n",
        "plt.plot ([0,7],[b,a*7+b])\n",
        "plt.show()"
      ],
      "metadata": {
        "colab": {
          "base_uri": "https://localhost:8080/",
          "height": 265
        },
        "id": "57pr2c51BP_J",
        "outputId": "964ebe42-98d6-49da-ee23-aa8065675ef1"
      },
      "execution_count": null,
      "outputs": [
        {
          "output_type": "display_data",
          "data": {
            "text/plain": [
              "<Figure size 432x288 with 1 Axes>"
            ],
            "image/png": "[encoded data removed]"
          },
          "metadata": {
            "needs_background": "light"
          }
        }
      ]
    },
    {
      "cell_type": "code",
      "source": [
        "plt.scatter (x,y)\n",
        "plt.scatter (20, a*20+b, color ='red')\n",
        "plt.plot ([0,25],[b,25*a+b])\n",
        "plt.title('Graf prikazuje predviđenu vrijednost upotrebom linearne regresije')\n",
        "plt.show ()\n",
        "\n",
        "print (a*20+b)"
      ],
      "metadata": {
        "colab": {
          "base_uri": "https://localhost:8080/",
          "height": 298
        },
        "id": "DvEFD6l-BfDJ",
        "outputId": "b1826088-21d2-4610-c23b-f40e2918511a"
      },
      "execution_count": null,
      "outputs": [
        {
          "output_type": "display_data",
          "data": {
            "text/plain": [
              "<Figure size 432x288 with 1 Axes>"
            ],
            "image/png": "[encoded data removed]"
          },
          "metadata": {
            "needs_background": "light"
          }
        },
        {
          "output_type": "stream",
          "name": "stdout",
          "text": [
            "16.857142857142854\n"
          ]
        }
      ]
    },
    {
      "cell_type": "code",
      "source": [
        "from sklearn.metrics import r2_score\n",
        "r2_score(y, a*x+b)"
      ],
      "metadata": {
        "colab": {
          "base_uri": "https://localhost:8080/"
        },
        "id": "S-Q3KV3MBWx6",
        "outputId": "b564c092-5af2-44b2-b535-6ed437a89153"
      },
      "execution_count": null,
      "outputs": [
        {
          "output_type": "execute_result",
          "data": {
            "text/plain": [
              "0.8683176100628931"
            ]
          },
          "metadata": {},
          "execution_count": 21
        }
      ]
    },
    {
      "cell_type": "markdown",
      "source": [
        "###Statsmodels"
      ],
      "metadata": {
        "id": "p59qmIiw8fRu"
      }
    },
    {
      "cell_type": "code",
      "source": [
        "import statsmodels.api as sm\n",
        "x = df.x\n",
        "y = df.y\n",
        "x = sm.add_constant(x)\n",
        "\n",
        "lm = sm.OLS(y, x).fit()\n",
        "\n",
        "print(lm.summary())"
      ],
      "metadata": {
        "colab": {
          "base_uri": "https://localhost:8080/"
        },
        "id": "EoCGxdHT_7Ho",
        "outputId": "14a4ae39-31d2-4707-d50b-d70b6809bd00"
      },
      "execution_count": null,
      "outputs": [
        {
          "output_type": "stream",
          "name": "stdout",
          "text": [
            "                            OLS Regression Results                            \n",
            "==============================================================================\n",
            "Dep. Variable:                      y   R-squared:                       0.868\n",
            "Model:                            OLS   Adj. R-squared:                  0.842\n",
            "Method:                 Least Squares   F-statistic:                     32.97\n",
            "Date:                Wed, 26 Oct 2022   Prob (F-statistic):            0.00225\n",
            "Time:                        12:31:07   Log-Likelihood:                -6.9566\n",
            "No. Observations:                   7   AIC:                             17.91\n",
            "Df Residuals:                       5   BIC:                             17.81\n",
            "Df Model:                           1                                         \n",
            "Covariance Type:            nonrobust                                         \n",
            "==============================================================================\n",
            "                 coef    std err          t      P>|t|      [0.025      0.975]\n",
            "------------------------------------------------------------------------------\n",
            "const          0.0714      0.654      0.109      0.917      -1.609       1.752\n",
            "x              0.8393      0.146      5.742      0.002       0.464       1.215\n",
            "==============================================================================\n",
            "Omnibus:                          nan   Durbin-Watson:                   3.622\n",
            "Prob(Omnibus):                    nan   Jarque-Bera (JB):                0.973\n",
            "Skew:                           0.258   Prob(JB):                        0.615\n",
            "Kurtosis:                       1.248   Cond. No.                         10.4\n",
            "==============================================================================\n",
            "\n",
            "Notes:\n",
            "[1] Standard Errors assume that the covariance matrix of the errors is correctly specified.\n"
          ]
        },
        {
          "output_type": "stream",
          "name": "stderr",
          "text": [
            "/usr/local/lib/python3.7/dist-packages/statsmodels/tsa/tsatools.py:142: FutureWarning: In a future version of pandas all arguments of concat except for the argument 'objs' will be keyword-only\n",
            "  x = pd.concat(x[::order], 1)\n",
            "/usr/local/lib/python3.7/dist-packages/statsmodels/stats/stattools.py:75: ValueWarning: omni_normtest is not valid with less than 8 observations; 7 samples were given.\n",
            "  \"samples were given.\" % int(n), ValueWarning)\n"
          ]
        }
      ]
    },
    {
      "cell_type": "markdown",
      "source": [
        "##Primjer"
      ],
      "metadata": {
        "id": "dYql9uxhF-mO"
      }
    },
    {
      "cell_type": "code",
      "source": [
        "import matplotlib.pyplot as plt\n",
        "import numpy as np\n",
        "from sklearn import datasets, linear_model\n",
        "from sklearn.metrics import r2_score\n",
        "from sklearn.model_selection import train_test_split\n",
        "\n",
        "# Load the diabetes dataset\n",
        "diabetes = datasets.load_diabetes(as_frame=True)\n",
        "df = pd.DataFrame(data=diabetes.data, columns=diabetes.feature_names)\n",
        "\n",
        "diabetes_X, diabetes_y = datasets.load_diabetes(return_X_y=True)\n",
        "# Use only one feature\n",
        "#diabetes_X = diabetes_X[:, np.newaxis, 2]\n",
        "diabetes_X = df[['bmi']]\n",
        "\n",
        "# Split the data into training/testing sets\n",
        "diabetes_X_train, diabetes_X_test, diabetes_y_train, diabetes_y_test = train_test_split(diabetes_X, diabetes_y, test_size=0.2, random_state= 42)\n",
        "\n",
        "# Create linear regression object\n",
        "regr = linear_model.LinearRegression()\n",
        "\n",
        "# Train the model using the training sets\n",
        "regr.fit(diabetes_X_train, diabetes_y_train)\n",
        "\n",
        "# Make predictions using the testing set\n",
        "diabetes_y_pred = regr.predict(diabetes_X_test)\n",
        "\n",
        "# The coefficients\n",
        "print(\"Coefficients: \\n\", regr.coef_)\n",
        "# The coefficient of determination: 1 is perfect prediction\n",
        "print(\"Coefficient of determination: %.2f\" % r2_score(diabetes_y_test, diabetes_y_pred))\n",
        "\n",
        "# Plot outputs\n",
        "plt.scatter(diabetes_X_test, diabetes_y_test, color=\"black\")\n",
        "plt.plot(diabetes_X_test, diabetes_y_pred, color=\"blue\", linewidth=3)\n",
        "\n",
        "\n",
        "\n",
        "plt.show()"
      ],
      "metadata": {
        "colab": {
          "base_uri": "https://localhost:8080/",
          "height": 317
        },
        "id": "oy_-opa7F7lP",
        "outputId": "42f11305-58b1-4fe2-be30-c8dd5a53a832"
      },
      "execution_count": null,
      "outputs": [
        {
          "output_type": "stream",
          "name": "stdout",
          "text": [
            "Coefficients: \n",
            " [998.57768914]\n",
            "Coefficient of determination: 0.23\n"
          ]
        },
        {
          "output_type": "display_data",
          "data": {
            "text/plain": [
              "<Figure size 432x288 with 1 Axes>"
            ],
            "image/png": "[encoded data removed]"
          },
          "metadata": {
            "needs_background": "light"
          }
        }
      ]
    }
  ],
  "metadata": {
    "kernelspec": {
      "display_name": "Python 3",
      "language": "python",
      "name": "python3"
    },
    "language_info": {
      "codemirror_mode": {
        "name": "ipython",
        "version": 3
      },
      "file_extension": ".py",
      "mimetype": "text/x-python",
      "name": "python",
      "nbconvert_exporter": "python",
      "pygments_lexer": "ipython3",
      "version": "3.7.7"
    },
    "colab": {
      "provenance": [],
      "collapsed_sections": [
        "mhdMyGlMTjyc",
        "9rPntCJ18NuS",
        "9FKGfxCu87xo",
        "5stjcdyN8UyB",
        "q02ES91J8xIf",
        "U07KCww89l9_",
        "5OihcR2-9R2e",
        "p59qmIiw8fRu",
        "dYql9uxhF-mO"
      ]
    }
  },
  "nbformat": 4,
  "nbformat_minor": 0
}